{
  "cells": [
    {
      "cell_type": "code",
      "source": [
        "from google.colab import drive\n",
        "drive.mount('/content/drive')\n",
        "drive = '/content/drive/MyDrive/rek_syst'"
      ],
      "metadata": {
        "colab": {
          "base_uri": "https://localhost:8080/"
        },
        "id": "XUfDhZO9YQ58",
        "outputId": "a6c80109-46dd-494a-8fd2-606ece0494e5"
      },
      "execution_count": null,
      "outputs": [
        {
          "output_type": "stream",
          "name": "stdout",
          "text": [
            "Drive already mounted at /content/drive; to attempt to forcibly remount, call drive.mount(\"/content/drive\", force_remount=True).\n"
          ]
        }
      ]
    },
    {
      "cell_type": "code",
      "source": [
        "pip install surprise"
      ],
      "metadata": {
        "colab": {
          "base_uri": "https://localhost:8080/"
        },
        "id": "XuroxiWnYpl6",
        "outputId": "aa0a80af-32fd-4c4c-c75e-963b4b94adcc"
      },
      "execution_count": null,
      "outputs": [
        {
          "output_type": "stream",
          "name": "stdout",
          "text": [
            "Requirement already satisfied: surprise in /usr/local/lib/python3.10/dist-packages (0.1)\n",
            "Requirement already satisfied: scikit-surprise in /usr/local/lib/python3.10/dist-packages (from surprise) (1.1.3)\n",
            "Requirement already satisfied: joblib>=1.0.0 in /usr/local/lib/python3.10/dist-packages (from scikit-surprise->surprise) (1.3.2)\n",
            "Requirement already satisfied: numpy>=1.17.3 in /usr/local/lib/python3.10/dist-packages (from scikit-surprise->surprise) (1.25.2)\n",
            "Requirement already satisfied: scipy>=1.3.2 in /usr/local/lib/python3.10/dist-packages (from scikit-surprise->surprise) (1.11.4)\n"
          ]
        }
      ]
    },
    {
      "cell_type": "code",
      "execution_count": null,
      "metadata": {
        "id": "S1rra8XQYN7k"
      },
      "outputs": [],
      "source": [
        "import pandas as pd\n",
        "from surprise import Dataset, SVDpp, Reader, accuracy\n",
        "from surprise.model_selection import train_test_split\n",
        "from surprise.model_selection import cross_validate\n",
        "from sklearn.feature_extraction.text import TfidfTransformer, CountVectorizer\n",
        "from sklearn.neighbors import NearestNeighbors\n",
        "import numpy as np\n",
        "algoritm_cv=SVDpp(n_factors=20,\n",
        "                  n_epochs=20,\n",
        "                  verbose=False,\n",
        "                  cache_ratings=False)\n",
        "def download():\n",
        "    movies =  pd.read_csv(drive + '/ml-latest-small/movies.csv')\n",
        "    rating = pd.read_csv(drive + '/ml-latest-small/ratings.csv')\n",
        "    return movies,rating\n",
        "def change_string(s):\n",
        "    return ' '.join(s.replace(' ', '').replace('-', '').split('|'))\n",
        "def pred_rating(uidx,iidx):\n",
        "    ratingx = algoritm_cv.predict(uid=uidx, iid=iidx).est\n",
        "    return ratingx\n",
        "def start():\n",
        "    movies,rating = download()\n",
        "    mov_rat = movies.merge(rating, on='movieId').reset_index(drop=True).dropna()\n",
        "    data = pd.DataFrame({\n",
        "        'uid' : mov_rat.userId,\n",
        "        'iid' : mov_rat.title,\n",
        "        'rating' : mov_rat .rating})\n",
        "    min_rating = data.rating.min()\n",
        "    max_rating = data.rating.max()\n",
        "    reader = Reader(rating_scale=(min_rating , max_rating))\n",
        "    data_for_svdpp = Dataset.load_from_df(data,reader)\n",
        "    trainset,testset = train_test_split(data_for_svdpp, test_size = 0.2,random_state = 13)\n",
        "    algoritm_cv.fit(trainset)\n",
        "\n",
        "    genres = {}\n",
        "    for index, row in mov_rat.iterrows():\n",
        "        genres[change_string(row.title)] = change_string(row.genres)\n",
        "\n",
        "    count_vect = CountVectorizer()\n",
        "    X_train_counts = count_vect.fit_transform(genres)\n",
        "    tfidf_transformer = TfidfTransformer()\n",
        "    X_train_tfidf = tfidf_transformer.fit_transform(X_train_counts)\n",
        "\n",
        "    neigh = NearestNeighbors(n_neighbors=23, n_jobs=-1, metric='euclidean')\n",
        "    neigh.fit(X_train_tfidf)\n",
        "    return movies,rating,mov_rat,algoritm_cv,genres,count_vect,tfidf_transformer,neigh\n",
        "def rec_for_usr(uidx):\n",
        "    user_movies = mov_rat[mov_rat.userId == uidx].title.unique()\n",
        "    meanratuidx = mov_rat[mov_rat.userId == uidx].rating.mean()\n",
        "    user_movies_last = user_movies[-1]\n",
        "\n",
        "    predict = count_vect.transform([user_movies_last])\n",
        "    X_tfidf2 = tfidf_transformer.transform(predict)\n",
        "    res = neigh.kneighbors(X_tfidf2, return_distance=True)\n",
        "\n",
        "    movies_to_score = movies.iloc[res[1][0]].title.values\n",
        "    scores = []\n",
        "    titles = []\n",
        "    for movie in movies_to_score:\n",
        "        if movie in user_movies:\n",
        "            continue\n",
        "        a = algoritm_cv.predict(uid=uidx, iid=movie).est\n",
        "        if a > meanratuidx:\n",
        "            scores.append(algoritm_cv.predict(uid=uidx, iid=movie).est)\n",
        "            titles.append(movie)\n",
        "    for i in range(0, len(titles)):\n",
        "            print(titles[i], round(scores[i],1))\n",
        "    return"
      ]
    },
    {
      "cell_type": "markdown",
      "metadata": {
        "id": "OeyCUG-GYN7q"
      },
      "source": [
        "Собрал все подготовительное в один блок для удобства запуска, и сделал запуск через проверку условия(есть ли первая переменная в памяти) и ввод интересующего пользователя. \"холодный\" старт занимает 1-2 минуты на обучение, после несколько секунд."
      ]
    },
    {
      "cell_type": "code",
      "execution_count": null,
      "metadata": {
        "colab": {
          "base_uri": "https://localhost:8080/"
        },
        "id": "IAXg5JvDYN7t",
        "outputId": "bdeeba94-faf3-48d3-b61b-2bc48851ea0e"
      },
      "outputs": [
        {
          "output_type": "stream",
          "name": "stdout",
          "text": [
            "5\n",
            "ID пользователя:  5\n",
            "Whole Wide World, The (1996) 3.6\n",
            "Alaska (1996) 3.7\n",
            "Emma (1996) 4.0\n",
            "Crucible, The (1996) 3.9\n",
            "Trainspotting (1996) 4.1\n",
            "CPU times: user 1min 30s, sys: 186 ms, total: 1min 31s\n",
            "Wall time: 1min 37s\n"
          ]
        }
      ],
      "source": [
        "#\"холодный\" старт\n",
        "%%time\n",
        "uidx = int(input())\n",
        "if 'mov_rat' in locals():\n",
        "    print('ID пользователя: ',uidx)\n",
        "    rec_for_usr(uidx)\n",
        "else:\n",
        "  movies,rating,mov_rat,algoritm_cv,genres,count_vect,tfidf_transformer,neigh = start()\n",
        "  print('ID пользователя: ',uidx)\n",
        "  rec_for_usr(uidx)"
      ]
    },
    {
      "cell_type": "code",
      "source": [
        "#\"обычный\" старт\n",
        "%%time\n",
        "uidx = int(input())\n",
        "if 'mov_rat' in locals():\n",
        "    print('ID пользователя: ',uidx)\n",
        "    rec_for_usr(uidx)\n",
        "else:\n",
        "  movies,rating,mov_rat,algoritm_cv,genres,count_vect,tfidf_transformer,neigh = start()\n",
        "  print('ID пользователя: ',uidx)\n",
        "  rec_for_usr(uidx)"
      ],
      "metadata": {
        "colab": {
          "base_uri": "https://localhost:8080/"
        },
        "id": "N1LPqJvsgex0",
        "outputId": "3844e696-0e4a-4ada-81ed-63088aa1910d"
      },
      "execution_count": null,
      "outputs": [
        {
          "output_type": "stream",
          "name": "stdout",
          "text": [
            "5\n",
            "ID пользователя:  5\n",
            "Whole Wide World, The (1996) 3.6\n",
            "Alaska (1996) 3.7\n",
            "Emma (1996) 4.0\n",
            "Crucible, The (1996) 3.9\n",
            "Trainspotting (1996) 4.1\n",
            "CPU times: user 27.6 ms, sys: 4 ms, total: 31.6 ms\n",
            "Wall time: 2.6 s\n"
          ]
        }
      ]
    },
    {
      "cell_type": "code",
      "source": [
        "%%time\n",
        "uidx = int(input())\n",
        "if 'mov_rat' in locals():\n",
        "    print('ID пользователя: ',uidx)\n",
        "    rec_for_usr(uidx)\n",
        "else:\n",
        "  movies,rating,mov_rat,algoritm_cv,genres,count_vect,tfidf_transformer,neigh = start()\n",
        "  print('ID пользователя: ',uidx)\n",
        "  rec_for_usr(uidx)"
      ],
      "metadata": {
        "id": "DYEoBLa7hFFH",
        "outputId": "0952d2c8-3f4c-436c-84f1-41f363a76690",
        "colab": {
          "base_uri": "https://localhost:8080/"
        }
      },
      "execution_count": null,
      "outputs": [
        {
          "output_type": "stream",
          "name": "stdout",
          "text": [
            "99\n",
            "ID пользователя:  99\n",
            "Harakiri (Seppuku) (1962) 4.1\n",
            "Footloose (2011) 4.1\n",
            "Class Act (1992) 3.9\n",
            "Whiplash (2014) 4.5\n",
            "Watchmen (2009) 4.2\n",
            "TiMER (2009) 4.1\n",
            "Fast Times at Ridgemont High (1982) 4.0\n",
            "From the Earth to the Moon (1998) 4.0\n",
            "Playing for Keeps (2012) 4.0\n",
            "Wind Rises, The (Kaze tachinu) (2013) 4.1\n",
            "Platoon (1986) 4.5\n",
            "He Said, She Said (1991) 3.9\n",
            "Woodsman, The (2004) 4.2\n",
            "Lean on Me (1989) 3.9\n",
            "Big Sleep, The (1946) 4.4\n",
            "Full Metal Jacket (1987) 4.5\n",
            "CPU times: user 29.2 ms, sys: 1.03 ms, total: 30.3 ms\n",
            "Wall time: 1.18 s\n"
          ]
        }
      ]
    }
  ],
  "metadata": {
    "kernelspec": {
      "display_name": "base",
      "language": "python",
      "name": "python3"
    },
    "language_info": {
      "codemirror_mode": {
        "name": "ipython",
        "version": 3
      },
      "file_extension": ".py",
      "mimetype": "text/x-python",
      "name": "python",
      "nbconvert_exporter": "python",
      "pygments_lexer": "ipython3",
      "version": "3.11.5"
    },
    "colab": {
      "provenance": []
    }
  },
  "nbformat": 4,
  "nbformat_minor": 0
}