{
  "nbformat": 4,
  "nbformat_minor": 0,
  "metadata": {
    "colab": {
      "provenance": []
    },
    "kernelspec": {
      "name": "python3",
      "display_name": "Python 3"
    },
    "language_info": {
      "name": "python"
    }
  },
  "cells": [
    {
      "cell_type": "markdown",
      "source": [
        "В домашнем задании необходимо применить полученные знания в теории оптимизации и машинном обучении для реализации логистической регрессии.\n",
        "Этапы работы:**\n",
        "\n",
        "Загрузите данные. Используйте датасет с ирисами. Его можно загрузить непосредственно из библиотеки Sklearn. В данных оставьте только 2 класса: Iris Versicolor, Iris Virginica.\n",
        "Самостоятельно реализуйте логистическую регрессию, без использования метода LogisticRegression из библиотеки. Можете использовать библиотеки pandas, numpy, math для реализации. Оформите в виде функции. *Оформите в виде класса с методами.\n",
        "Реализуйте метод градиентного спуска. Обучите логистическую регрессию этим методом. Выберете и посчитайте метрику качества. Метрика должна быть одинакова для всех пунктов домашнего задания. Для упрощения сравнения выберете только одну метрику.\n",
        "Повторите п. 3 для метода скользящего среднего (Root Mean Square Propagation, RMSProp).\n",
        "Повторите п. 3 для ускоренного по Нестерову метода адаптивной оценки моментов (Nesterov–accelerated Adaptive Moment Estimation, Nadam).\n",
        "Сравните значение метрик для реализованных методов оптимизации. Можно оформить в виде таблицы вида |метод|метрика|время работы| (время работы опционально). Напишите вывод.\n",
        "Для лучшего понимания темы и упрощения реализации можете обратиться к статье.\n",
        "\n",
        "Для получение зачета по этому домашнему заданию, минимально, должно быть реализовано обучение логистической регрессии и градиентный спуск."
      ],
      "metadata": {
        "id": "xe-cuXj27e4x"
      }
    },
    {
      "cell_type": "markdown",
      "source": [
        "Загрузка библиотек"
      ],
      "metadata": {
        "id": "9VFpTwM7Omyp"
      }
    },
    {
      "cell_type": "code",
      "execution_count": null,
      "metadata": {
        "id": "v8-bipGtqwI8"
      },
      "outputs": [],
      "source": [
        "from sklearn import datasets\n",
        "import numpy as np\n",
        "import pandas as pd\n",
        "from sklearn.model_selection import train_test_split"
      ]
    },
    {
      "cell_type": "markdown",
      "source": [
        "Необходимые функции"
      ],
      "metadata": {
        "id": "0JQPQq3sOrZ7"
      }
    },
    {
      "cell_type": "code",
      "source": [
        "class LogisticRegression:\n",
        "\n",
        "    def __init__(self, learning_rate=0.01, num_iterations=1000):\n",
        "        self.learning_rate = learning_rate\n",
        "        self.num_iterations = num_iterations\n",
        "        self.weights = None\n",
        "        self.bias = None\n",
        "\n",
        "    def sigmoid(self, z):\n",
        "        return 1 / (1 + np.exp(-z))\n",
        "\n",
        "    def fit(self, X, y):\n",
        "        num_samples, num_features = X.shape\n",
        "        self.weights = np.zeros(num_features)\n",
        "        self.bias = 0\n",
        "\n",
        "        # градиентный спуск\n",
        "        for _ in range(self.num_iterations):\n",
        "            linear_output = np.dot(X, self.weights) + self.bias\n",
        "            predicted_probs = self.sigmoid(linear_output)\n",
        "\n",
        "            # градиенты\n",
        "            dw = (1/num_samples) * np.dot(X.T, (predicted_probs - y))\n",
        "            db = (1/num_samples) * np.sum(predicted_probs - y)\n",
        "\n",
        "            # обновление весов и смещения\n",
        "            self.weights -= self.learning_rate * dw\n",
        "            self.bias -= self.learning_rate * db\n",
        "\n",
        "    def predict(self, X):\n",
        "        linear_output = np.dot(X, self.weights) + self.bias\n",
        "        predicted_probs = self.sigmoid(linear_output)\n",
        "        predicted_labels = [1 if x > 0.5 else 0 for x in predicted_probs]\n",
        "        return np.array(predicted_labels)\n"
      ],
      "metadata": {
        "id": "gibL_GgmLUxH"
      },
      "execution_count": null,
      "outputs": []
    },
    {
      "cell_type": "markdown",
      "source": [
        "Загрузка и обработка данных"
      ],
      "metadata": {
        "id": "tiDy9qnZME99"
      }
    },
    {
      "cell_type": "code",
      "source": [
        "iris = datasets.load_iris()\n",
        "df = pd.DataFrame(iris.data, columns=iris.feature_names)\n",
        "df['target'] = iris.target\n",
        "data = df[~(df['target']==2)]\n",
        "data = data.astype(int)\n",
        "x1 = ['sepal length (cm)', 'sepal width (cm)', 'petal length (cm)', 'petal width (cm)']\n",
        "basex = data[x1]\n",
        "y1 = 'target'\n",
        "basey = data[y1]\n",
        "train_x, test_x, train_y , test_y = train_test_split(basex, basey, test_size = 0.2, random_state = 0)"
      ],
      "metadata": {
        "id": "GeW9eoj5KoJv"
      },
      "execution_count": null,
      "outputs": []
    },
    {
      "cell_type": "markdown",
      "source": [
        "Обучаем и проверяем"
      ],
      "metadata": {
        "id": "FtWJD1lKM_Ya"
      }
    },
    {
      "cell_type": "code",
      "source": [
        "model = LogisticRegression()\n",
        "model.fit(train_x, train_y)\n",
        "predictions = model.predict(test_x)\n",
        "print('Предсказание модели: ', predictions)\n",
        "print('Проверочный набор:   ', test_y.to_numpy())"
      ],
      "metadata": {
        "colab": {
          "base_uri": "https://localhost:8080/"
        },
        "id": "VO2i2iZiM_Db",
        "outputId": "d2e8276c-7685-4bfe-e539-4535ca068b91"
      },
      "execution_count": null,
      "outputs": [
        {
          "output_type": "stream",
          "name": "stdout",
          "text": [
            "Предсказание модели:  [0 1 0 1 1 1 0 1 1 1 1 1 1 0 0 0 0 0 0 0]\n",
            "Проверочный набор:    [0 1 0 1 1 1 0 1 1 1 1 1 1 0 0 0 0 0 0 0]\n"
          ]
        }
      ]
    }
  ]
}