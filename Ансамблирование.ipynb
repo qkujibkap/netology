{
  "nbformat": 4,
  "nbformat_minor": 0,
  "metadata": {
    "colab": {
      "provenance": [],
      "toc_visible": true
    },
    "kernelspec": {
      "name": "python3",
      "display_name": "Python 3"
    },
    "language_info": {
      "name": "python"
    }
  },
  "cells": [
    {
      "cell_type": "markdown",
      "source": [
        "В домашнем задании нужно решить задачу классификации наличия болезни сердца у пациентов. Данные для обучения моделей необходимо загрузить самостоятельно с сайта. Целевая переменная – наличие болезни сердца (HeartDisease), принимает значения 0 или 1 в зависимости от отсутствия или наличия болезни соответственно. (Подробнее о признаках можно прочесть в описании датасета на сайте. Для выполнения работы не обязательно вникать в медицинские показатели.)\n",
        "Этапы работы:\n",
        "\n",
        "Получите данные и загрузите их в рабочую среду. (Jupyter Notebook или другую)\n",
        "Подготовьте датасет к обучению моделей.\n",
        "a) Категориальные переменные переведите в цифровые значения. Можно использовать pd.get_dummies, preprocessing.LabelEncoder. Старайтесь не использовать для этой задачи циклы.\n",
        "b) *Постройте 1-2 графика на выбор. Визуализация должна быть основана на исследуемых данных и быть полезной (из графика можно сделать вывод об особенностях датасета/класса/признака).\n",
        "Разделите выборку на обучающее и тестовое подмножество. 80% данных оставить на обучающее множество, 20% на тестовое.\n",
        "Обучите дерево решений на обучающем множестве. Используйте следующие модели:\n",
        "a) tree.DecisionTreeClassifier\n",
        "b) ensemble.RandomForestClassifier\n",
        "Для тестового множества сделайте предсказание целевой переменной. Выведите метрики для каждой построенной модели с помощью metrics.classification_report.\n",
        "Выведите важность признаков, полученную после обучения модели из п. 4b в виде столбчатой диаграммы. Отсортируйте важность по убыванию.\n",
        "Обучите бэггинг над моделью из п. 4a. Используйте ensemble.BaggingClassifier.\n",
        "a) Повторите п. 5\n",
        "Обучите стекинг трех моделей: из п. 4a, п. 4b и svm.LinearSVC. Используйте ensemble.StackingClassifier.\n",
        "a) Повторите п. 5\n",
        "Сформулируйте выводы по проделанной работе.\n",
        "a) Сравните метрики построенных моделей.\n",
        "b) Напишите свое мнение, какая модель наилучшая и почему.\n",
        "Для получения зачета по этому домашнему заданию, минимально, должны быть обучены следующие модели: дерево решений, стекинг трех моделей. В данных должны быть обработаны категориальные значения.\n",
        "Результат: получены знания по использованию базовых ансамблевых методов."
      ],
      "metadata": {
        "id": "W6PF_v9H8di7"
      }
    },
    {
      "cell_type": "markdown",
      "source": [
        "#Подготовка данных\n"
      ],
      "metadata": {
        "id": "3m06CYJr7qj4"
      }
    },
    {
      "cell_type": "markdown",
      "source": [
        "##Блок \"импорта\""
      ],
      "metadata": {
        "id": "i7RmS6tAxTzi"
      }
    },
    {
      "cell_type": "code",
      "execution_count": null,
      "metadata": {
        "id": "-asdDMjDgNFz"
      },
      "outputs": [],
      "source": [
        "import pandas as pd\n",
        "import matplotlib.pyplot as plt\n",
        "import seaborn as sns\n",
        "import math as m\n",
        "import numpy as np\n",
        "#from sklearn import datasets\n",
        "from sklearn.model_selection import train_test_split\n",
        "#from sklearn.linear_model import LinearRegression\n",
        "#from sklearn.metrics import mean_squared_error\n",
        "#from sklearn.metrics import r2_score\n",
        "#from sklearn.tree import DecisionTreeRegressor\n",
        "#from sklearn.model_selection import cross_val_score\n",
        "#from sklearn.tree import plot_tree\n",
        "from sklearn.preprocessing import LabelEncoder\n",
        "from sklearn.metrics import classification_report\n",
        "from sklearn.tree import DecisionTreeClassifier\n",
        "from sklearn.ensemble import RandomForestClassifier\n",
        "from sklearn.svm import SVC\n",
        "from sklearn.ensemble import BaggingClassifier\n",
        "from sklearn.svm import LinearSVC\n",
        "from sklearn.ensemble import StackingClassifier"
      ]
    },
    {
      "cell_type": "markdown",
      "source": [
        "##Загрузка данных"
      ],
      "metadata": {
        "id": "wbFK0CCOxQhD"
      }
    },
    {
      "cell_type": "code",
      "source": [
        "data = pd.read_csv('/content/drive/MyDrive/heart.csv')\n",
        "data.info()"
      ],
      "metadata": {
        "colab": {
          "base_uri": "https://localhost:8080/"
        },
        "id": "xfut0cQUg9WM",
        "outputId": "6adfd235-9629-4322-c4b0-3e04d8258d4e"
      },
      "execution_count": null,
      "outputs": [
        {
          "output_type": "stream",
          "name": "stdout",
          "text": [
            "<class 'pandas.core.frame.DataFrame'>\n",
            "RangeIndex: 918 entries, 0 to 917\n",
            "Data columns (total 12 columns):\n",
            " #   Column          Non-Null Count  Dtype  \n",
            "---  ------          --------------  -----  \n",
            " 0   Age             918 non-null    int64  \n",
            " 1   Sex             918 non-null    object \n",
            " 2   ChestPainType   918 non-null    object \n",
            " 3   RestingBP       918 non-null    int64  \n",
            " 4   Cholesterol     918 non-null    int64  \n",
            " 5   FastingBS       918 non-null    int64  \n",
            " 6   RestingECG      918 non-null    object \n",
            " 7   MaxHR           918 non-null    int64  \n",
            " 8   ExerciseAngina  918 non-null    object \n",
            " 9   Oldpeak         918 non-null    float64\n",
            " 10  ST_Slope        918 non-null    object \n",
            " 11  HeartDisease    918 non-null    int64  \n",
            "dtypes: float64(1), int64(6), object(5)\n",
            "memory usage: 86.2+ KB\n"
          ]
        }
      ]
    },
    {
      "cell_type": "markdown",
      "source": [
        "##Преобразование данных"
      ],
      "metadata": {
        "id": "NVaDhMH-ji1s"
      }
    },
    {
      "cell_type": "code",
      "source": [
        "le = LabelEncoder()\n",
        "le.fit(data['Sex'])\n",
        "data['Sex'] = pd.Series(data = le.transform(data['Sex']))\n",
        "ea = LabelEncoder()\n",
        "ea.fit(data['ExerciseAngina'])\n",
        "data['ExerciseAngina'] = pd.Series(data = ea.transform(data['ExerciseAngina']))\n",
        "data = pd.get_dummies(data, columns=['ChestPainType','RestingECG','ST_Slope'])"
      ],
      "metadata": {
        "id": "QuV9LO4dha1q"
      },
      "execution_count": null,
      "outputs": []
    },
    {
      "cell_type": "markdown",
      "source": [
        "##Разделение данных"
      ],
      "metadata": {
        "id": "9kAGLcKJxMzM"
      }
    },
    {
      "cell_type": "code",
      "source": [
        "X = data.copy()\n",
        "y = data['HeartDisease']\n",
        "del X['HeartDisease']\n",
        "train_x, test_x, train_y , test_y = train_test_split(X, y, test_size = 0.2, random_state = 10)"
      ],
      "metadata": {
        "id": "XaBo9aPrj2iM"
      },
      "execution_count": null,
      "outputs": []
    },
    {
      "cell_type": "markdown",
      "source": [
        "#Дерево классов и случайный лес"
      ],
      "metadata": {
        "id": "8li0vJjy50rB"
      }
    },
    {
      "cell_type": "code",
      "source": [
        "TreeClass = DecisionTreeClassifier(random_state = 10,max_depth = 3)\n",
        "TreeClass.fit(train_x,train_y)\n",
        "RandomForest = RandomForestClassifier(random_state = 10,max_depth = 3)\n",
        "RandomForest.fit(train_x,train_y)\n",
        "predTC = TreeClass.predict(test_x)\n",
        "predRF = RandomForest.predict(test_x)"
      ],
      "metadata": {
        "id": "-OWxQ4a9piWT"
      },
      "execution_count": null,
      "outputs": []
    },
    {
      "cell_type": "markdown",
      "source": [
        "##Важность"
      ],
      "metadata": {
        "id": "zXL2XZ4857xe"
      }
    },
    {
      "cell_type": "code",
      "source": [
        "imp = pd.Series(RandomForest.feature_importances_)\n",
        "imp.index = pd.Series(train_x.columns)\n",
        "imp = imp.sort_values(ascending=False)\n",
        "imp"
      ],
      "metadata": {
        "colab": {
          "base_uri": "https://localhost:8080/"
        },
        "id": "2P0GCpxSrlb1",
        "outputId": "e04b74f3-ae33-447c-98ee-21902e5ac201"
      },
      "execution_count": null,
      "outputs": [
        {
          "output_type": "execute_result",
          "data": {
            "text/plain": [
              "ST_Slope_Up          0.284069\n",
              "ChestPainType_ASY    0.182986\n",
              "ST_Slope_Flat        0.168178\n",
              "Oldpeak              0.076093\n",
              "ExerciseAngina       0.075189\n",
              "MaxHR                0.048242\n",
              "ChestPainType_ATA    0.041484\n",
              "Sex                  0.031203\n",
              "Cholesterol          0.030263\n",
              "Age                  0.026936\n",
              "ChestPainType_NAP    0.009351\n",
              "RestingBP            0.008469\n",
              "FastingBS            0.008442\n",
              "ST_Slope_Down        0.005255\n",
              "RestingECG_LVH       0.001906\n",
              "ChestPainType_TA     0.001223\n",
              "RestingECG_Normal    0.000590\n",
              "RestingECG_ST        0.000122\n",
              "dtype: float64"
            ]
          },
          "metadata": {},
          "execution_count": 6
        }
      ]
    },
    {
      "cell_type": "markdown",
      "source": [
        "##График важности"
      ],
      "metadata": {
        "id": "kthGn1FH6iU3"
      }
    },
    {
      "cell_type": "code",
      "source": [
        "plt.title('Top 5 feature importances')\n",
        "plt.xlabel('Features')\n",
        "plt.ylabel('Gini')\n",
        "plt.bar(imp.head().index, imp.head())\n",
        "plt.show()"
      ],
      "metadata": {
        "colab": {
          "base_uri": "https://localhost:8080/",
          "height": 54
        },
        "id": "RXvSS8BasFKR",
        "outputId": "5a38f757-49c3-4647-a3b9-648676c71ee5"
      },
      "execution_count": null,
      "outputs": [
        {
          "output_type": "display_data",
          "data": {
            "text/plain": [
              "<Figure size 640x480 with 1 Axes>"
            ],
            "image/png": "[encoded data removed]"
          },
          "metadata": {}
        }
      ]
    },
    {
      "cell_type": "markdown",
      "source": [
        "##Репорт дерево классов и случайный лес"
      ],
      "metadata": {
        "id": "EtJxw_Zf6mbc"
      }
    },
    {
      "cell_type": "code",
      "source": [
        "print('Report for TreeClass: \\n',classification_report(test_y, predTC))\n",
        "print('\\nReport for RandomForest: \\n',classification_report(test_y, predRF))"
      ],
      "metadata": {
        "colab": {
          "base_uri": "https://localhost:8080/"
        },
        "id": "c8NVPO-2v4YF",
        "outputId": "141491a9-4403-4fc2-8d88-a2889880eb96"
      },
      "execution_count": null,
      "outputs": [
        {
          "output_type": "stream",
          "name": "stdout",
          "text": [
            "Report for TreeClass: \n",
            "               precision    recall  f1-score   support\n",
            "\n",
            "           0       0.79      0.83      0.81        86\n",
            "           1       0.84      0.81      0.82        98\n",
            "\n",
            "    accuracy                           0.82       184\n",
            "   macro avg       0.81      0.82      0.81       184\n",
            "weighted avg       0.82      0.82      0.82       184\n",
            "\n",
            "\n",
            "Report for RandomForest: \n",
            "               precision    recall  f1-score   support\n",
            "\n",
            "           0       0.86      0.79      0.82        86\n",
            "           1       0.83      0.89      0.86        98\n",
            "\n",
            "    accuracy                           0.84       184\n",
            "   macro avg       0.84      0.84      0.84       184\n",
            "weighted avg       0.84      0.84      0.84       184\n",
            "\n"
          ]
        }
      ]
    },
    {
      "cell_type": "markdown",
      "source": [
        "#\"Баггинг\""
      ],
      "metadata": {
        "id": "0NGN9xM_6QlH"
      }
    },
    {
      "cell_type": "code",
      "source": [
        "Bag = BaggingClassifier(TreeClass, n_estimators=10, random_state=10)\n",
        "Bag.fit(train_x,train_y)\n",
        "predBag = Bag.predict(test_x)"
      ],
      "metadata": {
        "id": "nwvwrvSFx80a"
      },
      "execution_count": null,
      "outputs": []
    },
    {
      "cell_type": "markdown",
      "source": [
        "##Репорт \"баггинга\""
      ],
      "metadata": {
        "id": "JLKqVxV-6wNE"
      }
    },
    {
      "cell_type": "code",
      "source": [
        "print('\\nReport for BaggingClassifier: \\n',classification_report(test_y, predBag))"
      ],
      "metadata": {
        "colab": {
          "base_uri": "https://localhost:8080/"
        },
        "id": "FaTzuBx0yZLo",
        "outputId": "d75090d8-41ba-4d43-a6f3-c3ade1770384"
      },
      "execution_count": null,
      "outputs": [
        {
          "output_type": "stream",
          "name": "stdout",
          "text": [
            "\n",
            "Report for BaggingClassifier: \n",
            "               precision    recall  f1-score   support\n",
            "\n",
            "           0       0.82      0.84      0.83        86\n",
            "           1       0.85      0.84      0.85        98\n",
            "\n",
            "    accuracy                           0.84       184\n",
            "   macro avg       0.84      0.84      0.84       184\n",
            "weighted avg       0.84      0.84      0.84       184\n",
            "\n"
          ]
        }
      ]
    },
    {
      "cell_type": "markdown",
      "source": [
        "#SVC"
      ],
      "metadata": {
        "id": "ZuiF1DfD64C_"
      }
    },
    {
      "cell_type": "code",
      "source": [
        "svc = LinearSVC(random_state = 10)\n",
        "svc.fit(train_x,train_y)\n",
        "predsvc = svc.predict(test_x)"
      ],
      "metadata": {
        "colab": {
          "base_uri": "https://localhost:8080/"
        },
        "id": "zBna-fN8zXV1",
        "outputId": "5e3db0db-15c0-4f76-8acf-38a1de21c807"
      },
      "execution_count": null,
      "outputs": [
        {
          "output_type": "stream",
          "name": "stderr",
          "text": [
            "/usr/local/lib/python3.10/dist-packages/sklearn/svm/_base.py:1244: ConvergenceWarning: Liblinear failed to converge, increase the number of iterations.\n",
            "  warnings.warn(\n"
          ]
        }
      ]
    },
    {
      "cell_type": "markdown",
      "source": [
        "##Репорт SVC"
      ],
      "metadata": {
        "id": "i-hEXpPi7BY-"
      }
    },
    {
      "cell_type": "code",
      "source": [
        "print('\\nReport for LinearSVC: \\n',classification_report(test_y, predsvc))"
      ],
      "metadata": {
        "colab": {
          "base_uri": "https://localhost:8080/"
        },
        "id": "1HCkzP3Y0d2Y",
        "outputId": "87f518c8-e5eb-4c8e-9189-c011bf2109da"
      },
      "execution_count": null,
      "outputs": [
        {
          "output_type": "stream",
          "name": "stdout",
          "text": [
            "\n",
            "Report for LinearSVC: \n",
            "               precision    recall  f1-score   support\n",
            "\n",
            "           0       0.00      0.00      0.00        86\n",
            "           1       0.53      0.99      0.69        98\n",
            "\n",
            "    accuracy                           0.53       184\n",
            "   macro avg       0.27      0.49      0.35       184\n",
            "weighted avg       0.28      0.53      0.37       184\n",
            "\n"
          ]
        }
      ]
    },
    {
      "cell_type": "markdown",
      "source": [
        "#\"Стакинг\""
      ],
      "metadata": {
        "id": "BQb1GquO7Hrb"
      }
    },
    {
      "cell_type": "code",
      "source": [
        "estimator = [('TreeClass',TreeClass),\n",
        "             ('RandomForest',RandomForest),\n",
        "             ('svc',svc)]\n",
        "stack = StackingClassifier(estimators = estimator)\n",
        "stack.fit(train_x,train_y)\n",
        "predst = stack.predict(test_x);"
      ],
      "metadata": {
        "colab": {
          "base_uri": "https://localhost:8080/"
        },
        "id": "z0ya4ZvT1TUy",
        "outputId": "c3bb6ba8-910a-4be5-cbfa-60fb6a6fb81e"
      },
      "execution_count": null,
      "outputs": [
        {
          "output_type": "stream",
          "name": "stderr",
          "text": [
            "/usr/local/lib/python3.10/dist-packages/sklearn/svm/_base.py:1244: ConvergenceWarning: Liblinear failed to converge, increase the number of iterations.\n",
            "  warnings.warn(\n",
            "/usr/local/lib/python3.10/dist-packages/sklearn/svm/_base.py:1244: ConvergenceWarning: Liblinear failed to converge, increase the number of iterations.\n",
            "  warnings.warn(\n",
            "/usr/local/lib/python3.10/dist-packages/sklearn/svm/_base.py:1244: ConvergenceWarning: Liblinear failed to converge, increase the number of iterations.\n",
            "  warnings.warn(\n",
            "/usr/local/lib/python3.10/dist-packages/sklearn/svm/_base.py:1244: ConvergenceWarning: Liblinear failed to converge, increase the number of iterations.\n",
            "  warnings.warn(\n",
            "/usr/local/lib/python3.10/dist-packages/sklearn/svm/_base.py:1244: ConvergenceWarning: Liblinear failed to converge, increase the number of iterations.\n",
            "  warnings.warn(\n",
            "/usr/local/lib/python3.10/dist-packages/sklearn/svm/_base.py:1244: ConvergenceWarning: Liblinear failed to converge, increase the number of iterations.\n",
            "  warnings.warn(\n"
          ]
        }
      ]
    },
    {
      "cell_type": "markdown",
      "source": [
        "##Репорт \"стакинга\""
      ],
      "metadata": {
        "id": "PCG0n-t77LOV"
      }
    },
    {
      "cell_type": "code",
      "source": [
        "print('\\nReport for StackingClassifier: \\n',classification_report(test_y, predst))"
      ],
      "metadata": {
        "colab": {
          "base_uri": "https://localhost:8080/"
        },
        "id": "gFLdOylL3EBf",
        "outputId": "9e72440f-17d2-4310-ce4c-772aee67f9ad"
      },
      "execution_count": null,
      "outputs": [
        {
          "output_type": "stream",
          "name": "stdout",
          "text": [
            "\n",
            "Report for StackingClassifier: \n",
            "               precision    recall  f1-score   support\n",
            "\n",
            "           0       0.88      0.76      0.81        86\n",
            "           1       0.81      0.91      0.86        98\n",
            "\n",
            "    accuracy                           0.84       184\n",
            "   macro avg       0.84      0.83      0.83       184\n",
            "weighted avg       0.84      0.84      0.84       184\n",
            "\n"
          ]
        }
      ]
    },
    {
      "cell_type": "markdown",
      "source": [
        "# Репорт всех"
      ],
      "metadata": {
        "id": "iC_nwY6b7UOY"
      }
    },
    {
      "cell_type": "code",
      "source": [
        "print('Report for TreeClass: \\n',classification_report(test_y, predTC))\n",
        "print('\\nReport for RandomForest: \\n',classification_report(test_y, predRF))\n",
        "print('\\nReport for BaggingClassifier: \\n',classification_report(test_y, predBag))\n",
        "print('\\nReport for LinearSVC: \\n',classification_report(test_y, predsvc))\n",
        "print('\\nReport for StackingClassifier: \\n',classification_report(test_y, predst))"
      ],
      "metadata": {
        "colab": {
          "base_uri": "https://localhost:8080/"
        },
        "id": "qIhakUHx7Tur",
        "outputId": "76fdfce8-3bdd-4d86-8145-6a022a64f674"
      },
      "execution_count": null,
      "outputs": [
        {
          "output_type": "stream",
          "name": "stdout",
          "text": [
            "Report for TreeClass: \n",
            "               precision    recall  f1-score   support\n",
            "\n",
            "           0       0.79      0.83      0.81        86\n",
            "           1       0.84      0.81      0.82        98\n",
            "\n",
            "    accuracy                           0.82       184\n",
            "   macro avg       0.81      0.82      0.81       184\n",
            "weighted avg       0.82      0.82      0.82       184\n",
            "\n",
            "\n",
            "Report for RandomForest: \n",
            "               precision    recall  f1-score   support\n",
            "\n",
            "           0       0.86      0.79      0.82        86\n",
            "           1       0.83      0.89      0.86        98\n",
            "\n",
            "    accuracy                           0.84       184\n",
            "   macro avg       0.84      0.84      0.84       184\n",
            "weighted avg       0.84      0.84      0.84       184\n",
            "\n",
            "\n",
            "Report for BaggingClassifier: \n",
            "               precision    recall  f1-score   support\n",
            "\n",
            "           0       0.82      0.84      0.83        86\n",
            "           1       0.85      0.84      0.85        98\n",
            "\n",
            "    accuracy                           0.84       184\n",
            "   macro avg       0.84      0.84      0.84       184\n",
            "weighted avg       0.84      0.84      0.84       184\n",
            "\n",
            "\n",
            "Report for LinearSVC: \n",
            "               precision    recall  f1-score   support\n",
            "\n",
            "           0       0.00      0.00      0.00        86\n",
            "           1       0.53      0.99      0.69        98\n",
            "\n",
            "    accuracy                           0.53       184\n",
            "   macro avg       0.27      0.49      0.35       184\n",
            "weighted avg       0.28      0.53      0.37       184\n",
            "\n",
            "\n",
            "Report for StackingClassifier: \n",
            "               precision    recall  f1-score   support\n",
            "\n",
            "           0       0.88      0.76      0.81        86\n",
            "           1       0.81      0.91      0.86        98\n",
            "\n",
            "    accuracy                           0.84       184\n",
            "   macro avg       0.84      0.83      0.83       184\n",
            "weighted avg       0.84      0.84      0.84       184\n",
            "\n"
          ]
        }
      ]
    },
    {
      "cell_type": "markdown",
      "source": [
        "##Score"
      ],
      "metadata": {
        "id": "BBYLjd9d-N7F"
      }
    },
    {
      "cell_type": "code",
      "source": [
        "a = '\\n'\n",
        "print('TreeClass',TreeClass.score(test_x,test_y),a)\n",
        "print('RandomForest',RandomForest.score(test_x,test_y),a)\n",
        "print('Bag',Bag.score(test_x,test_y),a)\n",
        "print('svc',svc.score(test_x,test_y),a)\n",
        "print('stack',stack.score(test_x,test_y),a)"
      ],
      "metadata": {
        "colab": {
          "base_uri": "https://localhost:8080/"
        },
        "id": "AblgZIVQ8sqK",
        "outputId": "20dfd826-b1c7-4006-ea62-7cf9ea857668"
      },
      "execution_count": null,
      "outputs": [
        {
          "output_type": "stream",
          "name": "stdout",
          "text": [
            "TreeClass 0.8152173913043478 \n",
            "\n",
            "RandomForest 0.842391304347826 \n",
            "\n",
            "Bag 0.8369565217391305 \n",
            "\n",
            "svc 0.5271739130434783 \n",
            "\n",
            "stack 0.8369565217391305 \n",
            "\n"
          ]
        }
      ]
    }
  ]
}